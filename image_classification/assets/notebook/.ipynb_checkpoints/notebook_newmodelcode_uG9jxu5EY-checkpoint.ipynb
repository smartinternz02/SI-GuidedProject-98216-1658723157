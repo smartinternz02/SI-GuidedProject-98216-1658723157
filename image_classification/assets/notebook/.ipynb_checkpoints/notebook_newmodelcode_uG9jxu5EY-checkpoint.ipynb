{
 "cells": [
  {
   "cell_type": "markdown",
   "id": "ed0f8810",
   "metadata": {},
   "source": [
    "## Import The ImageDataGenerator Library"
   ]
  },
  {
   "cell_type": "code",
   "execution_count": 3,
   "id": "4272cd0b",
   "metadata": {},
   "outputs": [],
   "source": [
    "from keras.preprocessing.image import ImageDataGenerator"
   ]
  },
  {
   "cell_type": "markdown",
   "id": "f1de2864",
   "metadata": {},
   "source": [
    "# Image Data Agumentation"
   ]
  },
  {
   "cell_type": "code",
   "execution_count": 4,
   "id": "fd047ecf",
   "metadata": {},
   "outputs": [],
   "source": [
    "train_datagen = ImageDataGenerator(rescale=1./255,shear_range=0.2,zoom_range=0.2,horizontal_flip=True)\n",
    "\n",
    "test_datagen=ImageDataGenerator(rescale=1./255)\n"
   ]
  },
  {
   "cell_type": "code",
   "execution_count": 6,
   "id": "d00cfed3",
   "metadata": {},
   "outputs": [
    {
     "ename": "ModuleNotFoundError",
     "evalue": "No module named 'botocore'",
     "output_type": "error",
     "traceback": [
      "\u001b[1;31m---------------------------------------------------------------------------\u001b[0m",
      "\u001b[1;31mModuleNotFoundError\u001b[0m                       Traceback (most recent call last)",
      "\u001b[1;32mC:\\Users\\PRASAN~1\\AppData\\Local\\Temp/ipykernel_4844/1950919205.py\u001b[0m in \u001b[0;36m<module>\u001b[1;34m\u001b[0m\n\u001b[0;32m      1\u001b[0m \u001b[1;32mimport\u001b[0m \u001b[0mos\u001b[0m\u001b[1;33m,\u001b[0m \u001b[0mtypes\u001b[0m\u001b[1;33m\u001b[0m\u001b[1;33m\u001b[0m\u001b[0m\n\u001b[0;32m      2\u001b[0m \u001b[1;32mimport\u001b[0m \u001b[0mpandas\u001b[0m \u001b[1;32mas\u001b[0m \u001b[0mpd\u001b[0m\u001b[1;33m\u001b[0m\u001b[1;33m\u001b[0m\u001b[0m\n\u001b[1;32m----> 3\u001b[1;33m \u001b[1;32mfrom\u001b[0m \u001b[0mbotocore\u001b[0m\u001b[1;33m.\u001b[0m\u001b[0mclient\u001b[0m \u001b[1;32mimport\u001b[0m \u001b[0mConfig\u001b[0m\u001b[1;33m\u001b[0m\u001b[1;33m\u001b[0m\u001b[0m\n\u001b[0m\u001b[0;32m      4\u001b[0m \u001b[1;32mimport\u001b[0m \u001b[0mibm_boto3\u001b[0m\u001b[1;33m\u001b[0m\u001b[1;33m\u001b[0m\u001b[0m\n\u001b[0;32m      5\u001b[0m \u001b[1;33m\u001b[0m\u001b[0m\n",
      "\u001b[1;31mModuleNotFoundError\u001b[0m: No module named 'botocore'"
     ]
    }
   ],
   "source": [
    "\n",
    "import os, types\n",
    "import pandas as pd\n",
    "from botocore.client import Config\n",
    "import ibm_boto3\n",
    "\n",
    "def __iter__(self): return 0\n",
    "\n",
    "# @hidden_cell\n",
    "# The following code accesses a file in your IBM Cloud Object Storage. It includes your credentials.\n",
    "# You might want to remove those credentials before you share the notebook.\n",
    "client_c1dae236c94e444092d79eb7f6061170 = ibm_boto3.client(service_name='s3',\n",
    "    ibm_api_key_id='RiSl-WHZSkZpRolx2hmwp9o2osm6RO3RRTZqnnMD6h6Z',\n",
    "    ibm_auth_endpoint=\"https://iam.cloud.ibm.com/oidc/token\",\n",
    "    config=Config(signature_version='oauth'),\n",
    "    endpoint_url='https://s3.private.us.cloud-object-storage.appdomain.cloud')\n",
    "\n",
    "streaming_body_3 = client_c1dae236c94e444092d79eb7f6061170.get_object(Bucket='imageclassification-donotdelete-pr-7wigdxumyxq2lq', Key='dataset.zip')['Body']\n",
    "\n",
    "# Your data file was loaded into a botocore.response.StreamingBody object.\n",
    "# Please read the documentation of ibm_boto3 and pandas to learn more about the possibilities to load the data.\n",
    "# ibm_boto3 documentation: https://ibm.github.io/ibm-cos-sdk-python/\n",
    "# pandas documentation: http://pandas.pydata.org/\n"
   ]
  },
  {
   "cell_type": "code",
   "execution_count": 36,
   "id": "82f972f9",
   "metadata": {},
   "outputs": [],
   "source": [
    "from io import BytesIO\n",
    "import zipfile\n",
    "\n",
    "unzip = zipfile.ZipFile(BytesIO(streaming_body_3.read()),'r')\n",
    "file_paths = unzip.namelist()\n",
    "for path in file_paths:\n",
    "    unzip.extract(path)"
   ]
  },
  {
   "cell_type": "code",
   "execution_count": 37,
   "id": "18d63b11",
   "metadata": {},
   "outputs": [
    {
     "data": {
      "text/plain": [
       "'/home/wsuser/work'"
      ]
     },
     "execution_count": 37,
     "metadata": {},
     "output_type": "execute_result"
    }
   ],
   "source": [
    "pwd"
   ]
  },
  {
   "cell_type": "markdown",
   "id": "08384f88",
   "metadata": {},
   "source": [
    "# Loading our data and performing data agumentation"
   ]
  },
  {
   "cell_type": "code",
   "execution_count": 38,
   "id": "86de61c0",
   "metadata": {},
   "outputs": [
    {
     "name": "stdout",
     "output_type": "stream",
     "text": [
      "Found 700 images belonging to 5 classes.\n",
      "Found 300 images belonging to 5 classes.\n"
     ]
    }
   ],
   "source": [
    "x_train=train_datagen.flow_from_directory(r'/home/wsuser/work/Rock_Classification_Dataset/train_set',target_size=(64,64),batch_size=5,color_mode='rgb',class_mode='categorical')\n",
    "\n",
    "x_test=test_datagen.flow_from_directory(r'/home/wsuser/work/Rock_Classification_Dataset/test_set',target_size=(64,64),batch_size=5,color_mode='rgb',class_mode='categorical')"
   ]
  },
  {
   "cell_type": "markdown",
   "id": "7e322ff1",
   "metadata": {},
   "source": [
    "# Importing Necessary Libraries"
   ]
  },
  {
   "cell_type": "code",
   "execution_count": 39,
   "id": "d7a0300e",
   "metadata": {},
   "outputs": [],
   "source": [
    "import numpy as np\n",
    "import tensorflow\n",
    "from tensorflow.keras.models import Sequential\n",
    "from tensorflow.keras import layers\n",
    "from tensorflow.keras.layers import Dense,Flatten\n",
    "from tensorflow.keras.layers import Conv2D,MaxPooling2D\n",
    "from keras.preprocessing.image import ImageDataGenerator"
   ]
  },
  {
   "cell_type": "markdown",
   "id": "06f46fbc",
   "metadata": {},
   "source": [
    "# Initializing the model"
   ]
  },
  {
   "cell_type": "code",
   "execution_count": 40,
   "id": "d318cd67",
   "metadata": {},
   "outputs": [],
   "source": [
    "# Example for initialization\n",
    "# model=Sequential()"
   ]
  },
  {
   "cell_type": "markdown",
   "id": "d6440931",
   "metadata": {},
   "source": [
    "# Adding CNN Layers"
   ]
  },
  {
   "cell_type": "code",
   "execution_count": 41,
   "id": "5e317b68",
   "metadata": {},
   "outputs": [],
   "source": [
    "classifier = Sequential()\n",
    "\n",
    "classifier.add(Conv2D(32,(3,3),input_shape=(64,64,3),activation='relu'))\n",
    "classifier.add(MaxPooling2D(pool_size=(2,2)))\n",
    "\n",
    "classifier.add(Conv2D(32,(3,3),activation='relu'))\n",
    "\n",
    "classifier.add(MaxPooling2D(pool_size=(2,2)))\n",
    "\n",
    "classifier.add(Flatten())"
   ]
  },
  {
   "cell_type": "code",
   "execution_count": 42,
   "id": "a5325030",
   "metadata": {},
   "outputs": [
    {
     "name": "stdout",
     "output_type": "stream",
     "text": [
      "Model: \"sequential_1\"\n",
      "_________________________________________________________________\n",
      " Layer (type)                Output Shape              Param #   \n",
      "=================================================================\n",
      " conv2d_2 (Conv2D)           (None, 62, 62, 32)        896       \n",
      "                                                                 \n",
      " max_pooling2d_2 (MaxPooling  (None, 31, 31, 32)       0         \n",
      " 2D)                                                             \n",
      "                                                                 \n",
      " conv2d_3 (Conv2D)           (None, 29, 29, 32)        9248      \n",
      "                                                                 \n",
      " max_pooling2d_3 (MaxPooling  (None, 14, 14, 32)       0         \n",
      " 2D)                                                             \n",
      "                                                                 \n",
      " flatten_1 (Flatten)         (None, 6272)              0         \n",
      "                                                                 \n",
      " dense_2 (Dense)             (None, 128)               802944    \n",
      "                                                                 \n",
      " dense_3 (Dense)             (None, 5)                 645       \n",
      "                                                                 \n",
      "=================================================================\n",
      "Total params: 813,733\n",
      "Trainable params: 813,733\n",
      "Non-trainable params: 0\n",
      "_________________________________________________________________\n"
     ]
    }
   ],
   "source": [
    "classifier.add(Dense(units=128,activation='relu'))\n",
    "classifier.add(Dense(units=5,activation='softmax'))\n",
    "\n",
    "classifier.summary()"
   ]
  },
  {
   "cell_type": "markdown",
   "id": "d3dbab59",
   "metadata": {},
   "source": [
    "# Compiling the model"
   ]
  },
  {
   "cell_type": "code",
   "execution_count": 43,
   "id": "ffdb827d",
   "metadata": {},
   "outputs": [],
   "source": [
    "classifier.compile(optimizer='adam',loss='categorical_crossentropy',metrics=['accuracy'])"
   ]
  },
  {
   "cell_type": "markdown",
   "id": "c0f71839",
   "metadata": {},
   "source": [
    "# Fitting the model"
   ]
  },
  {
   "cell_type": "code",
   "execution_count": 44,
   "id": "be342b8c",
   "metadata": {},
   "outputs": [
    {
     "name": "stdout",
     "output_type": "stream",
     "text": [
      "Epoch 1/20\n"
     ]
    },
    {
     "name": "stderr",
     "output_type": "stream",
     "text": [
      "/tmp/wsuser/ipykernel_164/556800684.py:1: UserWarning: `Model.fit_generator` is deprecated and will be removed in a future version. Please use `Model.fit`, which supports generators.\n",
      "  classifier.fit_generator(\n"
     ]
    },
    {
     "name": "stdout",
     "output_type": "stream",
     "text": [
      "140/140 [==============================] - 4s 27ms/step - loss: 1.0358 - accuracy: 0.5357 - val_loss: 0.5532 - val_accuracy: 0.8267\n",
      "Epoch 2/20\n",
      "140/140 [==============================] - 4s 25ms/step - loss: 0.5961 - accuracy: 0.7329 - val_loss: 0.6552 - val_accuracy: 0.7867\n",
      "Epoch 3/20\n",
      "140/140 [==============================] - 3s 24ms/step - loss: 0.5164 - accuracy: 0.7829 - val_loss: 0.5760 - val_accuracy: 0.7933\n",
      "Epoch 4/20\n",
      "140/140 [==============================] - 4s 25ms/step - loss: 0.4491 - accuracy: 0.8200 - val_loss: 0.4611 - val_accuracy: 0.8400\n",
      "Epoch 5/20\n",
      "140/140 [==============================] - 4s 25ms/step - loss: 0.3936 - accuracy: 0.8429 - val_loss: 0.5437 - val_accuracy: 0.8133\n",
      "Epoch 6/20\n",
      "140/140 [==============================] - 3s 25ms/step - loss: 0.4609 - accuracy: 0.8143 - val_loss: 0.3494 - val_accuracy: 0.9200\n",
      "Epoch 7/20\n",
      "140/140 [==============================] - 4s 26ms/step - loss: 0.3599 - accuracy: 0.8500 - val_loss: 0.2812 - val_accuracy: 0.9167\n",
      "Epoch 8/20\n",
      "140/140 [==============================] - 4s 26ms/step - loss: 0.2840 - accuracy: 0.8843 - val_loss: 0.5051 - val_accuracy: 0.8600\n",
      "Epoch 9/20\n",
      "140/140 [==============================] - 4s 25ms/step - loss: 0.2913 - accuracy: 0.8886 - val_loss: 0.4023 - val_accuracy: 0.8633\n",
      "Epoch 10/20\n",
      "140/140 [==============================] - 3s 24ms/step - loss: 0.2761 - accuracy: 0.8857 - val_loss: 0.4135 - val_accuracy: 0.8867\n",
      "Epoch 11/20\n",
      "140/140 [==============================] - 4s 25ms/step - loss: 0.2812 - accuracy: 0.8900 - val_loss: 0.5811 - val_accuracy: 0.8367\n",
      "Epoch 12/20\n",
      "140/140 [==============================] - 3s 25ms/step - loss: 0.2408 - accuracy: 0.9043 - val_loss: 0.4015 - val_accuracy: 0.8767\n",
      "Epoch 13/20\n",
      "140/140 [==============================] - 3s 24ms/step - loss: 0.2598 - accuracy: 0.8971 - val_loss: 0.4265 - val_accuracy: 0.8533\n",
      "Epoch 14/20\n",
      "140/140 [==============================] - 4s 25ms/step - loss: 0.2603 - accuracy: 0.9000 - val_loss: 0.6466 - val_accuracy: 0.7533\n",
      "Epoch 15/20\n",
      "140/140 [==============================] - 4s 26ms/step - loss: 0.2593 - accuracy: 0.8929 - val_loss: 0.3994 - val_accuracy: 0.8933\n",
      "Epoch 16/20\n",
      "140/140 [==============================] - 3s 24ms/step - loss: 0.1765 - accuracy: 0.9329 - val_loss: 0.4839 - val_accuracy: 0.8467\n",
      "Epoch 17/20\n",
      "140/140 [==============================] - 4s 25ms/step - loss: 0.1983 - accuracy: 0.9229 - val_loss: 0.4518 - val_accuracy: 0.8667\n",
      "Epoch 18/20\n",
      "140/140 [==============================] - 4s 25ms/step - loss: 0.2150 - accuracy: 0.9071 - val_loss: 0.5058 - val_accuracy: 0.8733\n",
      "Epoch 19/20\n",
      "140/140 [==============================] - 3s 25ms/step - loss: 0.1498 - accuracy: 0.9400 - val_loss: 0.4711 - val_accuracy: 0.9000\n",
      "Epoch 20/20\n",
      "140/140 [==============================] - 4s 25ms/step - loss: 0.1974 - accuracy: 0.9200 - val_loss: 0.3956 - val_accuracy: 0.8933\n"
     ]
    },
    {
     "data": {
      "text/plain": [
       "<keras.callbacks.History at 0x7fc3985d4460>"
      ]
     },
     "execution_count": 44,
     "metadata": {},
     "output_type": "execute_result"
    }
   ],
   "source": [
    "classifier.fit_generator(\n",
    "    generator=x_train,steps_per_epoch = len(x_train),\n",
    "    epochs=20,validation_data=x_test,validation_steps=len(x_test)\n",
    ")"
   ]
  },
  {
   "cell_type": "code",
   "execution_count": 45,
   "id": "cb671748",
   "metadata": {},
   "outputs": [
    {
     "name": "stdout",
     "output_type": "stream",
     "text": [
      "Requirement already satisfied: watson-machine-learning-client in /opt/conda/envs/Python-3.9/lib/python3.9/site-packages (1.0.391)\n",
      "Requirement already satisfied: pandas in /opt/conda/envs/Python-3.9/lib/python3.9/site-packages (from watson-machine-learning-client) (1.3.4)\n",
      "Requirement already satisfied: boto3 in /opt/conda/envs/Python-3.9/lib/python3.9/site-packages (from watson-machine-learning-client) (1.18.21)\n",
      "Requirement already satisfied: urllib3 in /opt/conda/envs/Python-3.9/lib/python3.9/site-packages (from watson-machine-learning-client) (1.26.7)\n",
      "Requirement already satisfied: ibm-cos-sdk in /opt/conda/envs/Python-3.9/lib/python3.9/site-packages (from watson-machine-learning-client) (2.11.0)\n",
      "Requirement already satisfied: lomond in /opt/conda/envs/Python-3.9/lib/python3.9/site-packages (from watson-machine-learning-client) (0.3.3)\n",
      "Requirement already satisfied: requests in /opt/conda/envs/Python-3.9/lib/python3.9/site-packages (from watson-machine-learning-client) (2.26.0)\n",
      "Requirement already satisfied: tabulate in /opt/conda/envs/Python-3.9/lib/python3.9/site-packages (from watson-machine-learning-client) (0.8.9)\n",
      "Requirement already satisfied: certifi in /opt/conda/envs/Python-3.9/lib/python3.9/site-packages (from watson-machine-learning-client) (2022.6.15)\n",
      "Requirement already satisfied: tqdm in /opt/conda/envs/Python-3.9/lib/python3.9/site-packages (from watson-machine-learning-client) (4.62.3)\n",
      "Requirement already satisfied: botocore<1.22.0,>=1.21.21 in /opt/conda/envs/Python-3.9/lib/python3.9/site-packages (from boto3->watson-machine-learning-client) (1.21.41)\n",
      "Requirement already satisfied: s3transfer<0.6.0,>=0.5.0 in /opt/conda/envs/Python-3.9/lib/python3.9/site-packages (from boto3->watson-machine-learning-client) (0.5.0)\n",
      "Requirement already satisfied: jmespath<1.0.0,>=0.7.1 in /opt/conda/envs/Python-3.9/lib/python3.9/site-packages (from boto3->watson-machine-learning-client) (0.10.0)\n",
      "Requirement already satisfied: python-dateutil<3.0.0,>=2.1 in /opt/conda/envs/Python-3.9/lib/python3.9/site-packages (from botocore<1.22.0,>=1.21.21->boto3->watson-machine-learning-client) (2.8.2)\n",
      "Requirement already satisfied: six>=1.5 in /opt/conda/envs/Python-3.9/lib/python3.9/site-packages (from python-dateutil<3.0.0,>=2.1->botocore<1.22.0,>=1.21.21->boto3->watson-machine-learning-client) (1.15.0)\n",
      "Requirement already satisfied: ibm-cos-sdk-s3transfer==2.11.0 in /opt/conda/envs/Python-3.9/lib/python3.9/site-packages (from ibm-cos-sdk->watson-machine-learning-client) (2.11.0)\n",
      "Requirement already satisfied: ibm-cos-sdk-core==2.11.0 in /opt/conda/envs/Python-3.9/lib/python3.9/site-packages (from ibm-cos-sdk->watson-machine-learning-client) (2.11.0)\n",
      "Requirement already satisfied: idna<4,>=2.5 in /opt/conda/envs/Python-3.9/lib/python3.9/site-packages (from requests->watson-machine-learning-client) (3.3)\n",
      "Requirement already satisfied: charset-normalizer~=2.0.0 in /opt/conda/envs/Python-3.9/lib/python3.9/site-packages (from requests->watson-machine-learning-client) (2.0.4)\n",
      "Requirement already satisfied: pytz>=2017.3 in /opt/conda/envs/Python-3.9/lib/python3.9/site-packages (from pandas->watson-machine-learning-client) (2021.3)\n",
      "Requirement already satisfied: numpy>=1.17.3 in /opt/conda/envs/Python-3.9/lib/python3.9/site-packages (from pandas->watson-machine-learning-client) (1.20.3)\n"
     ]
    }
   ],
   "source": [
    "!pip install watson-machine-learning-client --upgrade"
   ]
  },
  {
   "cell_type": "code",
   "execution_count": 46,
   "id": "d82ae02e",
   "metadata": {},
   "outputs": [],
   "source": [
    "from ibm_watson_machine_learning import APIClient\n",
    "\n",
    "wml_credentials = {\n",
    "                    \"url\": \"https://us-south.ml.cloud.ibm.com\",\n",
    "                    \"apikey\":\"jiQoqlAvy_zNKMR_ZBJbBhc0gLxIxFgID84S2buUph9H\"\n",
    "}\n",
    "client=APIClient(wml_credentials)"
   ]
  },
  {
   "cell_type": "code",
   "execution_count": 47,
   "id": "7a6700a8",
   "metadata": {},
   "outputs": [],
   "source": [
    "client=APIClient(wml_credentials)"
   ]
  },
  {
   "cell_type": "code",
   "execution_count": 48,
   "id": "27db7d3f",
   "metadata": {},
   "outputs": [],
   "source": [
    "def guid_from_space_name(client,space_name):\n",
    "    space=client.spaces.get_details()\n",
    "    return(next(item for item in space['resources'] if item['entity'][\"name\"]==space_name)['metadata']['id'])"
   ]
  },
  {
   "cell_type": "code",
   "execution_count": 49,
   "id": "fa68c91f",
   "metadata": {},
   "outputs": [
    {
     "name": "stdout",
     "output_type": "stream",
     "text": [
      "Space UID=90beb310-5929-4e7c-84aa-22e5719974c9\n"
     ]
    }
   ],
   "source": [
    "space_uid = guid_from_space_name(client,'imageclassification')\n",
    "print(\"Space UID=\"+space_uid)"
   ]
  },
  {
   "cell_type": "code",
   "execution_count": 50,
   "id": "7fcccc07",
   "metadata": {},
   "outputs": [
    {
     "data": {
      "text/plain": [
       "'SUCCESS'"
      ]
     },
     "execution_count": 50,
     "metadata": {},
     "output_type": "execute_result"
    }
   ],
   "source": [
    "client.set.default_space(space_uid)"
   ]
  },
  {
   "cell_type": "code",
   "execution_count": 51,
   "id": "5e388a70",
   "metadata": {
    "scrolled": true
   },
   "outputs": [
    {
     "name": "stdout",
     "output_type": "stream",
     "text": [
      "-----------------------------  ------------------------------------  ----\n",
      "NAME                           ASSET_ID                              TYPE\n",
      "default_py3.6                  0062b8c9-8b7d-44a0-a9b9-46c416adcbd9  base\n",
      "kernel-spark3.2-scala2.12      020d69ce-7ac1-5e68-ac1a-31189867356a  base\n",
      "pytorch-onnx_1.3-py3.7-edt     069ea134-3346-5748-b513-49120e15d288  base\n",
      "scikit-learn_0.20-py3.6        09c5a1d0-9c1e-4473-a344-eb7b665ff687  base\n",
      "spark-mllib_3.0-scala_2.12     09f4cff0-90a7-5899-b9ed-1ef348aebdee  base\n",
      "pytorch-onnx_rt22.1-py3.9      0b848dd4-e681-5599-be41-b5f6fccc6471  base\n",
      "ai-function_0.1-py3.6          0cdb0f1e-5376-4f4d-92dd-da3b69aa9bda  base\n",
      "shiny-r3.6                     0e6e79df-875e-4f24-8ae9-62dcc2148306  base\n",
      "tensorflow_2.4-py3.7-horovod   1092590a-307d-563d-9b62-4eb7d64b3f22  base\n",
      "pytorch_1.1-py3.6              10ac12d6-6b30-4ccd-8392-3e922c096a92  base\n",
      "tensorflow_1.15-py3.6-ddl      111e41b3-de2d-5422-a4d6-bf776828c4b7  base\n",
      "runtime-22.1-py3.9             12b83a17-24d8-5082-900f-0ab31fbfd3cb  base\n",
      "scikit-learn_0.22-py3.6        154010fa-5b3b-4ac1-82af-4d5ee5abbc85  base\n",
      "default_r3.6                   1b70aec3-ab34-4b87-8aa0-a4a3c8296a36  base\n",
      "pytorch-onnx_1.3-py3.6         1bc6029a-cc97-56da-b8e0-39c3880dbbe7  base\n",
      "pytorch-onnx_rt22.1-py3.9-edt  1d362186-7ad5-5b59-8b6c-9d0880bde37f  base\n",
      "tensorflow_2.1-py3.6           1eb25b84-d6ed-5dde-b6a5-3fbdf1665666  base\n",
      "spark-mllib_3.2                20047f72-0a98-58c7-9ff5-a77b012eb8f5  base\n",
      "tensorflow_2.4-py3.8-horovod   217c16f6-178f-56bf-824a-b19f20564c49  base\n",
      "runtime-22.1-py3.9-cuda        26215f05-08c3-5a41-a1b0-da66306ce658  base\n",
      "do_py3.8                       295addb5-9ef9-547e-9bf4-92ae3563e720  base\n",
      "autoai-ts_3.8-py3.8            2aa0c932-798f-5ae9-abd6-15e0c2402fb5  base\n",
      "tensorflow_1.15-py3.6          2b73a275-7cbf-420b-a912-eae7f436e0bc  base\n",
      "pytorch_1.2-py3.6              2c8ef57d-2687-4b7d-acce-01f94976dac1  base\n",
      "spark-mllib_2.3                2e51f700-bca0-4b0d-88dc-5c6791338875  base\n",
      "pytorch-onnx_1.1-py3.6-edt     32983cea-3f32-4400-8965-dde874a8d67e  base\n",
      "spark-mllib_3.0-py37           36507ebe-8770-55ba-ab2a-eafe787600e9  base\n",
      "spark-mllib_2.4                390d21f8-e58b-4fac-9c55-d7ceda621326  base\n",
      "xgboost_0.82-py3.6             39e31acd-5f30-41dc-ae44-60233c80306e  base\n",
      "pytorch-onnx_1.2-py3.6-edt     40589d0e-7019-4e28-8daa-fb03b6f4fe12  base\n",
      "default_r36py38                41c247d3-45f8-5a71-b065-8580229facf0  base\n",
      "autoai-ts_rt22.1-py3.9         4269d26e-07ba-5d40-8f66-2d495b0c71f7  base\n",
      "autoai-obm_3.0                 42b92e18-d9ab-567f-988a-4240ba1ed5f7  base\n",
      "pmml-3.0_4.3                   493bcb95-16f1-5bc5-bee8-81b8af80e9c7  base\n",
      "spark-mllib_2.4-r_3.6          49403dff-92e9-4c87-a3d7-a42d0021c095  base\n",
      "xgboost_0.90-py3.6             4ff8d6c2-1343-4c18-85e1-689c965304d3  base\n",
      "pytorch-onnx_1.1-py3.6         50f95b2a-bc16-43bb-bc94-b0bed208c60b  base\n",
      "autoai-ts_3.9-py3.8            52c57136-80fa-572e-8728-a5e7cbb42cde  base\n",
      "spark-mllib_2.4-scala_2.11     55a70f99-7320-4be5-9fb9-9edb5a443af5  base\n",
      "spark-mllib_3.0                5c1b0ca2-4977-5c2e-9439-ffd44ea8ffe9  base\n",
      "autoai-obm_2.0                 5c2e37fa-80b8-5e77-840f-d912469614ee  base\n",
      "spss-modeler_18.1              5c3cad7e-507f-4b2a-a9a3-ab53a21dee8b  base\n",
      "cuda-py3.8                     5d3232bf-c86b-5df4-a2cd-7bb870a1cd4e  base\n",
      "autoai-kb_3.1-py3.7            632d4b22-10aa-5180-88f0-f52dfb6444d7  base\n",
      "pytorch-onnx_1.7-py3.8         634d3cdc-b562-5bf9-a2d4-ea90a478456b  base\n",
      "spark-mllib_2.3-r_3.6          6586b9e3-ccd6-4f92-900f-0f8cb2bd6f0c  base\n",
      "tensorflow_2.4-py3.7           65e171d7-72d1-55d9-8ebb-f813d620c9bb  base\n",
      "spss-modeler_18.2              687eddc9-028a-4117-b9dd-e57b36f1efa5  base\n",
      "pytorch-onnx_1.2-py3.6         692a6a4d-2c4d-45ff-a1ed-b167ee55469a  base\n",
      "spark-mllib_2.3-scala_2.11     7963efe5-bbec-417e-92cf-0574e21b4e8d  base\n",
      "-----------------------------  ------------------------------------  ----\n",
      "Note: Only first 50 records were displayed. To display more use 'limit' parameter.\n"
     ]
    }
   ],
   "source": [
    "client.software_specifications.list()"
   ]
  },
  {
   "cell_type": "code",
   "execution_count": 52,
   "id": "16afbdcc",
   "metadata": {},
   "outputs": [
    {
     "data": {
      "text/plain": [
       "'12b83a17-24d8-5082-900f-0ab31fbfd3cb'"
      ]
     },
     "execution_count": 52,
     "metadata": {},
     "output_type": "execute_result"
    }
   ],
   "source": [
    "software_spec_uid=client.software_specifications.get_uid_by_name(\"runtime-22.1-py3.9\")\n",
    "software_spec_uid"
   ]
  },
  {
   "cell_type": "markdown",
   "id": "b7ca58cf",
   "metadata": {},
   "source": [
    "# Save the Model"
   ]
  },
  {
   "cell_type": "code",
   "execution_count": 53,
   "id": "1568d17a",
   "metadata": {},
   "outputs": [],
   "source": [
    "classifier.save('rock.h5')\n",
    "\n",
    "model_json=classifier.to_json()\n",
    "\n",
    "with open(\"model-bw.json\",\"w\") as json_file:\n",
    "    json_file.write(model_json)"
   ]
  },
  {
   "cell_type": "code",
   "execution_count": 54,
   "id": "ab5b6d5d",
   "metadata": {},
   "outputs": [
    {
     "name": "stdout",
     "output_type": "stream",
     "text": [
      "rock.h5\r\n"
     ]
    }
   ],
   "source": [
    "!tar -zcvf image-classification-model_new.tarz rock.h5"
   ]
  },
  {
   "cell_type": "code",
   "execution_count": 55,
   "id": "28db8086",
   "metadata": {},
   "outputs": [
    {
     "name": "stdout",
     "output_type": "stream",
     "text": [
      "total 26392\r\n",
      "-rw-rw---- 1 wsuser wscommon 8682843 Sep  3 00:03 image-classification-model_new.tarz\r\n",
      "-rw-rw---- 1 wsuser wscommon    2835 Sep  3 00:03 model-bw.json\r\n",
      "-rw-rw---- 1 wsuser wscommon 8517121 Sep  2 23:53 my_model.tar.gz\r\n",
      "drwxrwx--- 5 wsuser wscommon    4096 Sep  2 23:43 \u001b[0m\u001b[01;34mRock_Classification_Dataset\u001b[0m/\r\n",
      "-rw-rw---- 1 wsuser wscommon 9810760 Sep  3 00:03 rock.h5\r\n"
     ]
    }
   ],
   "source": [
    "ls -l"
   ]
  },
  {
   "cell_type": "code",
   "execution_count": 56,
   "id": "08bbdc0d",
   "metadata": {},
   "outputs": [],
   "source": [
    "model_details=client.repository.store_model(model='image-classification-model_new.tarz',meta_props={\n",
    "    client.repository.ModelMetaNames.NAME:\"CNN\",\n",
    "    client.repository.ModelMetaNames.TYPE:\"tensorflow_2.7\",\n",
    "    client.repository.ModelMetaNames.SOFTWARE_SPEC_UID:software_spec_uid\n",
    "})\n",
    "\n",
    "model_id=client.repository.get_model_id(model_details)"
   ]
  },
  {
   "cell_type": "code",
   "execution_count": 57,
   "id": "6dc4173a",
   "metadata": {},
   "outputs": [
    {
     "data": {
      "text/plain": [
       "'c6b96edc-bc74-4bbe-86bc-741a76a0b446'"
      ]
     },
     "execution_count": 57,
     "metadata": {},
     "output_type": "execute_result"
    }
   ],
   "source": [
    "model_id"
   ]
  },
  {
   "cell_type": "code",
   "execution_count": 59,
   "id": "ae08eb58",
   "metadata": {},
   "outputs": [
    {
     "name": "stdout",
     "output_type": "stream",
     "text": [
      "Successfully saved model content to file: 'my_model1.tar.gz'\n"
     ]
    },
    {
     "data": {
      "text/plain": [
       "'/home/wsuser/work/my_model1.tar.gz'"
      ]
     },
     "execution_count": 59,
     "metadata": {},
     "output_type": "execute_result"
    }
   ],
   "source": [
    "client.repository.download(model_id,'my_model1.tar.gz')"
   ]
  },
  {
   "cell_type": "markdown",
   "id": "ad2d6557",
   "metadata": {},
   "source": [
    "# Test the model"
   ]
  },
  {
   "cell_type": "code",
   "execution_count": 60,
   "id": "8cb89d07",
   "metadata": {
    "scrolled": true
   },
   "outputs": [
    {
     "data": {
      "text/plain": [
       "array([[0., 0., 1., 0., 0.]], dtype=float32)"
      ]
     },
     "execution_count": 60,
     "metadata": {},
     "output_type": "execute_result"
    }
   ],
   "source": [
    "from tensorflow.keras.models import load_model\n",
    "from keras.preprocessing import image\n",
    "model=load_model(\"rock.h5\")\n",
    "\n",
    "img=tensorflow.keras.utils.load_img(r\"/home/wsuser/work/Rock_Classification_Dataset/test_set/marble/marble157.jpg\",grayscale=False,target_size=(64,64))\n",
    "\n",
    "x=tensorflow.keras.utils.img_to_array(img)\n",
    "x=np.expand_dims(x,axis=0)\n",
    "pred=model.predict(x)\n",
    "pred"
   ]
  },
  {
   "cell_type": "markdown",
   "id": "1e2a59b0",
   "metadata": {},
   "source": [
    "# predicting the output"
   ]
  },
  {
   "cell_type": "code",
   "execution_count": 61,
   "id": "8985c7c5",
   "metadata": {},
   "outputs": [
    {
     "data": {
      "text/plain": [
       "'marble'"
      ]
     },
     "execution_count": 61,
     "metadata": {},
     "output_type": "execute_result"
    }
   ],
   "source": [
    "index=['blue calcite','limestone','marble','olivine','red crystal']\n",
    "result=str(index[int(np.where(pred[0]==1.0)[0][0])])\n",
    "result"
   ]
  }
 ],
 "metadata": {
  "kernelspec": {
   "display_name": "Python 3 (ipykernel)",
   "language": "python",
   "name": "python3"
  },
  "language_info": {
   "codemirror_mode": {
    "name": "ipython",
    "version": 3
   },
   "file_extension": ".py",
   "mimetype": "text/x-python",
   "name": "python",
   "nbconvert_exporter": "python",
   "pygments_lexer": "ipython3",
   "version": "3.9.7"
  }
 },
 "nbformat": 4,
 "nbformat_minor": 5
}
