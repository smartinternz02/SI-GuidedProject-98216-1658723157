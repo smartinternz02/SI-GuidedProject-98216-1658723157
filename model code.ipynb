{
 "cells": [
  {
   "cell_type": "markdown",
   "id": "ed0f8810",
   "metadata": {},
   "source": [
    "## Import The ImageDataGenerator Library"
   ]
  },
  {
   "cell_type": "code",
   "execution_count": 71,
   "id": "4272cd0b",
   "metadata": {},
   "outputs": [],
   "source": [
    "from keras.preprocessing.image import ImageDataGenerator"
   ]
  },
  {
   "cell_type": "markdown",
   "id": "f1de2864",
   "metadata": {},
   "source": [
    "# Image Data Agumentation"
   ]
  },
  {
   "cell_type": "code",
   "execution_count": 72,
   "id": "fd047ecf",
   "metadata": {},
   "outputs": [],
   "source": [
    "train_datagen = ImageDataGenerator(rescale=1./255,shear_range=0.2,zoom_range=0.2,horizontal_flip=True)\n",
    "\n",
    "test_datagen=ImageDataGenerator(rescale=1./255)\n"
   ]
  },
  {
   "cell_type": "markdown",
   "id": "08384f88",
   "metadata": {},
   "source": [
    "# Loading our data and performing data agumentation"
   ]
  },
  {
   "cell_type": "code",
   "execution_count": 73,
   "id": "86de61c0",
   "metadata": {},
   "outputs": [
    {
     "name": "stdout",
     "output_type": "stream",
     "text": [
      "Found 700 images belonging to 5 classes.\n",
      "Found 700 images belonging to 5 classes.\n"
     ]
    }
   ],
   "source": [
    "x_train=train_datagen.flow_from_directory(r'C:\\Users\\prasanthsnp\\Downloads\\Rock_Classification_Dataset\\Rock_Classification_Dataset\\train_set',target_size=(64,64),batch_size=5,color_mode='rgb',class_mode='categorical')\n",
    "\n",
    "x_test=test_datagen.flow_from_directory(r'C:\\Users\\prasanthsnp\\Downloads\\Rock_Classification_Dataset\\Rock_Classification_Dataset\\train_set',target_size=(64,64),batch_size=5,color_mode='rgb',class_mode='categorical')"
   ]
  },
  {
   "cell_type": "markdown",
   "id": "7e322ff1",
   "metadata": {},
   "source": [
    "# Importing Necessary Libraries"
   ]
  },
  {
   "cell_type": "code",
   "execution_count": 74,
   "id": "d7a0300e",
   "metadata": {},
   "outputs": [],
   "source": [
    "import numpy as np\n",
    "import tensorflow\n",
    "from tensorflow.keras.models import Sequential\n",
    "from tensorflow.keras import layers\n",
    "from tensorflow.keras.layers import Dense,Flatten\n",
    "from tensorflow.keras.layers import Conv2D,MaxPooling2D\n",
    "from keras.preprocessing.image import ImageDataGenerator"
   ]
  },
  {
   "cell_type": "markdown",
   "id": "06f46fbc",
   "metadata": {},
   "source": [
    "# Initializing the model"
   ]
  },
  {
   "cell_type": "code",
   "execution_count": 75,
   "id": "d318cd67",
   "metadata": {},
   "outputs": [],
   "source": [
    "# Example for initialization\n",
    "# model=Sequential()"
   ]
  },
  {
   "cell_type": "markdown",
   "id": "d6440931",
   "metadata": {},
   "source": [
    "# Adding CNN Layers"
   ]
  },
  {
   "cell_type": "code",
   "execution_count": 76,
   "id": "5e317b68",
   "metadata": {},
   "outputs": [],
   "source": [
    "classifier = Sequential()\n",
    "\n",
    "classifier.add(Conv2D(32,(3,3),input_shape=(64,64,3),activation='relu'))\n",
    "classifier.add(MaxPooling2D(pool_size=(2,2)))\n",
    "\n",
    "classifier.add(Conv2D(32,(3,3),activation='relu'))\n",
    "\n",
    "classifier.add(MaxPooling2D(pool_size=(2,2)))\n",
    "\n",
    "classifier.add(Flatten())"
   ]
  },
  {
   "cell_type": "code",
   "execution_count": 77,
   "id": "a5325030",
   "metadata": {},
   "outputs": [
    {
     "name": "stdout",
     "output_type": "stream",
     "text": [
      "Model: \"sequential_5\"\n",
      "_________________________________________________________________\n",
      " Layer (type)                Output Shape              Param #   \n",
      "=================================================================\n",
      " conv2d_6 (Conv2D)           (None, 62, 62, 32)        896       \n",
      "                                                                 \n",
      " max_pooling2d_4 (MaxPooling  (None, 31, 31, 32)       0         \n",
      " 2D)                                                             \n",
      "                                                                 \n",
      " conv2d_7 (Conv2D)           (None, 29, 29, 32)        9248      \n",
      "                                                                 \n",
      " max_pooling2d_5 (MaxPooling  (None, 14, 14, 32)       0         \n",
      " 2D)                                                             \n",
      "                                                                 \n",
      " flatten_2 (Flatten)         (None, 6272)              0         \n",
      "                                                                 \n",
      " dense_6 (Dense)             (None, 128)               802944    \n",
      "                                                                 \n",
      " dense_7 (Dense)             (None, 5)                 645       \n",
      "                                                                 \n",
      "=================================================================\n",
      "Total params: 813,733\n",
      "Trainable params: 813,733\n",
      "Non-trainable params: 0\n",
      "_________________________________________________________________\n"
     ]
    }
   ],
   "source": [
    "classifier.add(Dense(units=128,activation='relu'))\n",
    "classifier.add(Dense(units=5,activation='softmax'))\n",
    "\n",
    "classifier.summary()"
   ]
  },
  {
   "cell_type": "markdown",
   "id": "d3dbab59",
   "metadata": {},
   "source": [
    "# Compiling the model"
   ]
  },
  {
   "cell_type": "code",
   "execution_count": 78,
   "id": "ffdb827d",
   "metadata": {},
   "outputs": [],
   "source": [
    "classifier.compile(optimizer='adam',loss='categorical_crossentropy',metrics=['accuracy'])"
   ]
  },
  {
   "cell_type": "markdown",
   "id": "c0f71839",
   "metadata": {},
   "source": [
    "# Fitting the model"
   ]
  },
  {
   "cell_type": "code",
   "execution_count": 79,
   "id": "be342b8c",
   "metadata": {},
   "outputs": [
    {
     "name": "stdout",
     "output_type": "stream",
     "text": [
      "Epoch 1/20\n"
     ]
    },
    {
     "name": "stderr",
     "output_type": "stream",
     "text": [
      "C:\\Users\\PRASAN~1\\AppData\\Local\\Temp/ipykernel_1708/556800684.py:1: UserWarning: `Model.fit_generator` is deprecated and will be removed in a future version. Please use `Model.fit`, which supports generators.\n",
      "  classifier.fit_generator(\n"
     ]
    },
    {
     "name": "stdout",
     "output_type": "stream",
     "text": [
      "140/140 [==============================] - 8s 52ms/step - loss: 1.0445 - accuracy: 0.5257 - val_loss: 0.5905 - val_accuracy: 0.8114\n",
      "Epoch 2/20\n",
      "140/140 [==============================] - 7s 50ms/step - loss: 0.5605 - accuracy: 0.7729 - val_loss: 0.7890 - val_accuracy: 0.7214\n",
      "Epoch 3/20\n",
      "140/140 [==============================] - 6s 46ms/step - loss: 0.5035 - accuracy: 0.7957 - val_loss: 0.3828 - val_accuracy: 0.8429\n",
      "Epoch 4/20\n",
      "140/140 [==============================] - 7s 47ms/step - loss: 0.4282 - accuracy: 0.8300 - val_loss: 0.3338 - val_accuracy: 0.8814\n",
      "Epoch 5/20\n",
      "140/140 [==============================] - 7s 47ms/step - loss: 0.3650 - accuracy: 0.8443 - val_loss: 0.3017 - val_accuracy: 0.8786\n",
      "Epoch 6/20\n",
      "140/140 [==============================] - 7s 47ms/step - loss: 0.3316 - accuracy: 0.8671 - val_loss: 0.3793 - val_accuracy: 0.8543\n",
      "Epoch 7/20\n",
      "140/140 [==============================] - 7s 49ms/step - loss: 0.3246 - accuracy: 0.8686 - val_loss: 0.2469 - val_accuracy: 0.9086\n",
      "Epoch 8/20\n",
      "140/140 [==============================] - 8s 54ms/step - loss: 0.2999 - accuracy: 0.8771 - val_loss: 0.2286 - val_accuracy: 0.9143\n",
      "Epoch 9/20\n",
      "140/140 [==============================] - 7s 48ms/step - loss: 0.3391 - accuracy: 0.8571 - val_loss: 0.4992 - val_accuracy: 0.7714\n",
      "Epoch 10/20\n",
      "140/140 [==============================] - 7s 50ms/step - loss: 0.3243 - accuracy: 0.8557 - val_loss: 0.1970 - val_accuracy: 0.9171\n",
      "Epoch 11/20\n",
      "140/140 [==============================] - 7s 50ms/step - loss: 0.2851 - accuracy: 0.8957 - val_loss: 0.2203 - val_accuracy: 0.9057\n",
      "Epoch 12/20\n",
      "140/140 [==============================] - 7s 48ms/step - loss: 0.2891 - accuracy: 0.8757 - val_loss: 0.5189 - val_accuracy: 0.7857\n",
      "Epoch 13/20\n",
      "140/140 [==============================] - 7s 47ms/step - loss: 0.2270 - accuracy: 0.9057 - val_loss: 0.1686 - val_accuracy: 0.9257\n",
      "Epoch 14/20\n",
      "140/140 [==============================] - 7s 47ms/step - loss: 0.4229 - accuracy: 0.8429 - val_loss: 0.2865 - val_accuracy: 0.8829\n",
      "Epoch 15/20\n",
      "140/140 [==============================] - 7s 48ms/step - loss: 0.2447 - accuracy: 0.8900 - val_loss: 0.1931 - val_accuracy: 0.9257\n",
      "Epoch 16/20\n",
      "140/140 [==============================] - 7s 47ms/step - loss: 0.2459 - accuracy: 0.8943 - val_loss: 0.2001 - val_accuracy: 0.9200\n",
      "Epoch 17/20\n",
      "140/140 [==============================] - 7s 47ms/step - loss: 0.2231 - accuracy: 0.9043 - val_loss: 0.2338 - val_accuracy: 0.9057\n",
      "Epoch 18/20\n",
      "140/140 [==============================] - 7s 47ms/step - loss: 0.2213 - accuracy: 0.9157 - val_loss: 0.1901 - val_accuracy: 0.9229\n",
      "Epoch 19/20\n",
      "140/140 [==============================] - 7s 48ms/step - loss: 0.2926 - accuracy: 0.8829 - val_loss: 0.2033 - val_accuracy: 0.9300\n",
      "Epoch 20/20\n",
      "140/140 [==============================] - 7s 47ms/step - loss: 0.2109 - accuracy: 0.9214 - val_loss: 0.1118 - val_accuracy: 0.9557\n"
     ]
    },
    {
     "data": {
      "text/plain": [
       "<keras.callbacks.History at 0x1cd80f6c760>"
      ]
     },
     "execution_count": 79,
     "metadata": {},
     "output_type": "execute_result"
    }
   ],
   "source": [
    "classifier.fit_generator(\n",
    "    generator=x_train,steps_per_epoch = len(x_train),\n",
    "    epochs=20,validation_data=x_test,validation_steps=len(x_test)\n",
    ")"
   ]
  },
  {
   "cell_type": "markdown",
   "id": "b7ca58cf",
   "metadata": {},
   "source": [
    "# Save the Model"
   ]
  },
  {
   "cell_type": "code",
   "execution_count": 80,
   "id": "1568d17a",
   "metadata": {},
   "outputs": [],
   "source": [
    "classifier.save('rock.h5')\n",
    "\n",
    "model_json=classifier.to_json()\n",
    "\n",
    "with open(\"model-bw.json\",\"w\") as json_file:\n",
    "    json_file.write(model_json)"
   ]
  },
  {
   "cell_type": "markdown",
   "id": "ad2d6557",
   "metadata": {},
   "source": [
    "# Test the model"
   ]
  },
  {
   "cell_type": "code",
   "execution_count": 100,
   "id": "8cb89d07",
   "metadata": {
    "scrolled": true
   },
   "outputs": [
    {
     "name": "stdout",
     "output_type": "stream",
     "text": [
      "1/1 [==============================] - 0s 77ms/step\n"
     ]
    },
    {
     "data": {
      "text/plain": [
       "array([[0., 0., 1., 0., 0.]], dtype=float32)"
      ]
     },
     "execution_count": 100,
     "metadata": {},
     "output_type": "execute_result"
    }
   ],
   "source": [
    "from tensorflow.keras.models import load_model\n",
    "from keras.preprocessing import image\n",
    "model=load_model(\"rock.h5\")\n",
    "\n",
    "img=tensorflow.keras.utils.load_img(r\"C:\\Users\\prasanthsnp\\Downloads\\Rock_Classification_Dataset\\Rock_Classification_Dataset\\test_set\\marble\\marble157.jpg\",grayscale=False,target_size=(64,64))\n",
    "\n",
    "x=tensorflow.keras.utils.img_to_array(img)\n",
    "x=np.expand_dims(x,axis=0)\n",
    "pred=model.predict(x)\n",
    "pred"
   ]
  },
  {
   "cell_type": "markdown",
   "id": "1e2a59b0",
   "metadata": {},
   "source": [
    "# predicting the output"
   ]
  },
  {
   "cell_type": "code",
   "execution_count": 101,
   "id": "8985c7c5",
   "metadata": {},
   "outputs": [
    {
     "data": {
      "text/plain": [
       "'marble'"
      ]
     },
     "execution_count": 101,
     "metadata": {},
     "output_type": "execute_result"
    }
   ],
   "source": [
    "index=['blue calcite','limestone','marble','olivine','red crystal']\n",
    "result=str(index[int(np.where(pred[0]==1.0)[0][0])])\n",
    "result"
   ]
  }
 ],
 "metadata": {
  "kernelspec": {
   "display_name": "Python 3 (ipykernel)",
   "language": "python",
   "name": "python3"
  },
  "language_info": {
   "codemirror_mode": {
    "name": "ipython",
    "version": 3
   },
   "file_extension": ".py",
   "mimetype": "text/x-python",
   "name": "python",
   "nbconvert_exporter": "python",
   "pygments_lexer": "ipython3",
   "version": "3.9.7"
  }
 },
 "nbformat": 4,
 "nbformat_minor": 5
}
